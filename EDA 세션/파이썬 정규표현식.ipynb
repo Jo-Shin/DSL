{
 "cells": [
  {
   "cell_type": "code",
   "execution_count": 1,
   "metadata": {
    "ExecuteTime": {
     "end_time": "2021-01-19T05:58:06.430418Z",
     "start_time": "2021-01-19T05:58:06.428336Z"
    }
   },
   "outputs": [],
   "source": [
    "import re"
   ]
  },
  {
   "cell_type": "markdown",
   "metadata": {},
   "source": [
    "## re.match()\n",
    "\n",
    "---\n",
    "\n",
    "- 문자열에서 가장 첫번째 문자를 기준으로 패턴과 일치여부를 반환.\n",
    "- 줄바꿈 고려 X"
   ]
  },
  {
   "cell_type": "code",
   "execution_count": 2,
   "metadata": {
    "ExecuteTime": {
     "end_time": "2021-01-19T05:58:06.452122Z",
     "start_time": "2021-01-19T05:58:06.448691Z"
    }
   },
   "outputs": [
    {
     "name": "stdout",
     "output_type": "stream",
     "text": [
      "<re.Match object; span=(0, 1), match='a'>\n",
      "None\n",
      "None\n"
     ]
    }
   ],
   "source": [
    "print(re.match(r\"a\", \"abcdef\"))    # Returns value\n",
    "print(re.match(r\"a\", \"baaaaa\"))    # None: only considers the beginning \n",
    "print(re.match(r\"a\", \"bbbbb\\na\"))  # None: only considers first line"
   ]
  },
  {
   "cell_type": "markdown",
   "metadata": {},
   "source": [
    "## re.search()\n",
    "\n",
    "---\n",
    "\n",
    "- 문자열 전체에서 패턴과 일치여부를 판단.\n",
    "- 가장 **첫번째로 매칭되는 것만 반환**함.\n",
    "- 줄바꿈 고려 O"
   ]
  },
  {
   "cell_type": "code",
   "execution_count": 3,
   "metadata": {
    "ExecuteTime": {
     "end_time": "2021-01-19T05:58:06.464891Z",
     "start_time": "2021-01-19T05:58:06.461417Z"
    }
   },
   "outputs": [
    {
     "name": "stdout",
     "output_type": "stream",
     "text": [
      "<re.Match object; span=(5, 6), match='a'>\n",
      "<re.Match object; span=(0, 1), match='a'>\n",
      "\n",
      "<re.Match object; span=(1, 2), match='a'>\n",
      "\n",
      "<re.Match object; span=(7, 8), match='a'>\n"
     ]
    }
   ],
   "source": [
    "print(re.search(r\"a\", \"bcdefa\"))\n",
    "print(re.search(r\"a\", \"abcdef\"))  # both have values\n",
    "print()\n",
    "\n",
    "print(re.search(r\"a\", \"bacccca\")) # finds only the first appearance of \"a\"\n",
    "print()\n",
    "\n",
    "print(re.search(r\"a\", \"bbbbbb\\na\"))  # works well with multi-line"
   ]
  },
  {
   "cell_type": "markdown",
   "metadata": {},
   "source": [
    "반환된 문자열만 따로 사용하고 싶을 때:\n",
    "\n",
    "- `group()`: 문자열\n",
    "- `start()`: 시작 인덱스\n",
    "- `end()`: 끝 인덱스"
   ]
  },
  {
   "cell_type": "markdown",
   "metadata": {},
   "source": [
    "## re.findall()\n",
    "\n",
    "- 패턴과 일치하는 모든 문자열을 리스트형태로 반환.\n",
    "- 인덱스에 대한 정보는 반환 불가능."
   ]
  },
  {
   "cell_type": "code",
   "execution_count": 4,
   "metadata": {
    "ExecuteTime": {
     "end_time": "2021-01-19T05:58:06.487154Z",
     "start_time": "2021-01-19T05:58:06.483943Z"
    }
   },
   "outputs": [
    {
     "name": "stdout",
     "output_type": "stream",
     "text": [
      "['o', 'o']\n",
      "['re', 're']\n",
      "['!']\n"
     ]
    }
   ],
   "source": [
    "print(re.findall(r\"o\", \"I love regular expression!\"))         # search for all \"o\"\n",
    "print(re.findall(r\"re\", \"I love regular expression!\"))        # search for all \"re\"\n",
    "print(re.findall(r\"\\?|\\!\", \"I love regular expression!\"))     # search for all \"?\" or \"!\""
   ]
  },
  {
   "cell_type": "markdown",
   "metadata": {},
   "source": [
    "## Character Sets\n",
    "---\n",
    "\n",
    "**\\w**    (소문자 w)\n",
    "\n",
    "- [a-zA-Z0-9_] 에 포함되는 모든 문자와 매칭 \n",
    "- **모든 알파벳(한국어 모음, 자음 포함), 모든 숫자, 모든 언더바**\n",
    "\n",
    "---\n",
    "**\\W**   (대문자 w)\n",
    "\n",
    "- \\w 의 여집합\n",
    "- [a-zA-Z0-9_] 에 포함되지 **않는** 모든 문자와 매칭\n",
    "\n",
    "---"
   ]
  },
  {
   "cell_type": "code",
   "execution_count": 5,
   "metadata": {
    "ExecuteTime": {
     "end_time": "2021-01-19T05:58:06.500429Z",
     "start_time": "2021-01-19T05:58:06.497032Z"
    }
   },
   "outputs": [
    {
     "name": "stdout",
     "output_type": "stream",
     "text": [
      "데이터사\n",
      "데이터_\n",
      "사이언스\n"
     ]
    }
   ],
   "source": [
    "print(re.search(r\"\\w\\w\\w\\w\", \"데이터사이언스랩 화이팅!\").group())    # returns the first 4 consecutive elements of a string\n",
    "\n",
    "print(re.search(r\"\\w\\w\\w\\w\", \"데이터_사이언스_랩 화이팅!\").group())  # \\w includes underbar as well\n",
    "\n",
    "print(re.search(r\"\\w\\w\\w\\w\", \"데이터-사이언스랩 화이팅!\").group())   # \\w does not consider \"-\" or \" \""
   ]
  },
  {
   "cell_type": "code",
   "execution_count": 6,
   "metadata": {
    "ExecuteTime": {
     "end_time": "2021-01-19T05:58:06.505830Z",
     "start_time": "2021-01-19T05:58:06.502445Z"
    }
   },
   "outputs": [
    {
     "name": "stdout",
     "output_type": "stream",
     "text": [
      "!!!!\n",
      "[' ', ' ', '-', '-', ' ', '.']\n"
     ]
    }
   ],
   "source": [
    "print(re.search(r\"\\W\\W\\W\\W\", \"데이터사이언스랩 화이팅!!!!\").group())    # \\W matches non-characters and non-numbers\n",
    "\n",
    "print(re.findall(r\"\\W\", \"제 전화번호는 000-123-456 입니다.\"))          # \\W includes blanks and hyphens"
   ]
  },
  {
   "cell_type": "markdown",
   "metadata": {},
   "source": [
    "---\n",
    "**\\d** (소문자 d)\n",
    "- [0-9]에 포함되는 모든 숫자와 매칭\n",
    "\n",
    "---\n",
    "**\\D**\n",
    "- \\d 의 여집합\n",
    "- 숫자가 아닌 모든 문자와 매칭\n",
    "\n",
    "---"
   ]
  },
  {
   "cell_type": "code",
   "execution_count": 7,
   "metadata": {
    "ExecuteTime": {
     "end_time": "2021-01-19T05:58:06.514457Z",
     "start_time": "2021-01-19T05:58:06.511817Z"
    }
   },
   "outputs": [
    {
     "name": "stdout",
     "output_type": "stream",
     "text": [
      "['000', '123', '456']\n",
      "['0', '0', '0', '1', '2', '3', '4', '5', '6']\n"
     ]
    }
   ],
   "source": [
    "print(re.findall(r\"\\d\\d\\d\", \"제 전화번호는 000-123-456 입니다.\"))    # \\d matchs digits\n",
    "\n",
    "print(re.findall(r\"\\d\", \"제 전화번호는 000-123-456 입니다.\"))        "
   ]
  },
  {
   "cell_type": "code",
   "execution_count": 8,
   "metadata": {
    "ExecuteTime": {
     "end_time": "2021-01-19T05:58:06.520141Z",
     "start_time": "2021-01-19T05:58:06.516403Z"
    }
   },
   "outputs": [
    {
     "name": "stdout",
     "output_type": "stream",
     "text": [
      "['제 전', '화번호', ' 입니']\n",
      "['제', ' ', '전', '화', '번', '호', '는', ' ', '-', '-', ' ', '입', '니', '다', '.']\n"
     ]
    }
   ],
   "source": [
    "print(re.findall(r\"\\D\\D\\D\", \"제 전화번호는 000-123-456 입니다.\"))       # 3 consecutive non-digits\n",
    "\n",
    "print(re.findall(r\"\\D\", \"제 전화번호는 000-123-456 입니다.\"))           # Every non-digit element is returned"
   ]
  },
  {
   "cell_type": "markdown",
   "metadata": {},
   "source": [
    "---\n",
    "\n",
    "**\\s**\n",
    "- 문자열에서 모든 **빈칸**에 매칭\n",
    "- 탭, 띄어쓰기, 줄바꿈 등\n",
    "\n",
    "---\n",
    "**\\S**\n",
    "- \\s 의 여집합\n",
    "\n",
    "---"
   ]
  },
  {
   "cell_type": "code",
   "execution_count": 9,
   "metadata": {
    "ExecuteTime": {
     "end_time": "2021-01-19T05:58:06.531051Z",
     "start_time": "2021-01-19T05:58:06.528000Z"
    }
   },
   "outputs": [
    {
     "name": "stdout",
     "output_type": "stream",
     "text": [
      "[' ', ' ', ' ']\n",
      "['\\t', ' ', ' ', ' ', ' ']\n",
      "[' ', ' ', '\\n', ' ', ' ']\n"
     ]
    }
   ],
   "source": [
    "print(re.findall(r\"\\s\", \"제 전화번호는 000-123-456 입니다.\"))          # \\s matches white spaces\n",
    "\n",
    "print(re.findall(r\"\\s\", \"\\t 제 전화번호는 000-123-456 입니다.\"))     # \\s includes tabs\n",
    "\n",
    "print(re.findall(r\"\\s\", \"제 전화번호는 \\n 000-123-456 입니다.\"))     # \\s includes new lines"
   ]
  },
  {
   "cell_type": "markdown",
   "metadata": {},
   "source": [
    "## Quantifiers\n",
    "\n",
    "---\n",
    "**\"+\"**\n",
    "\n",
    "- 1 or more\n",
    "- \"greedy quantifier\" 라고 불림\n",
    "\n",
    "---\n",
    "\n",
    "**\"?\"** \n",
    "- 0 or 1\n",
    "\n",
    "---\n",
    "**\"*\"**\n",
    "- 0 or more\n",
    "\n",
    "---\n",
    "**\"{n,m}\"**\n",
    "- n~m 번 반복\n",
    "- {,3}: 3번까지 반복\n",
    "- {3,}: 최소 3번 이상 반복\n",
    "- 패턴에 특정한 횟수를 지정하고 싶을 때 사용"
   ]
  },
  {
   "cell_type": "code",
   "execution_count": 10,
   "metadata": {
    "ExecuteTime": {
     "end_time": "2021-01-19T05:58:06.544447Z",
     "start_time": "2021-01-19T05:58:06.542102Z"
    }
   },
   "outputs": [],
   "source": [
    "string = \"1 23 456 78910\""
   ]
  },
  {
   "cell_type": "code",
   "execution_count": 11,
   "metadata": {
    "ExecuteTime": {
     "end_time": "2021-01-19T05:58:06.550752Z",
     "start_time": "2021-01-19T05:58:06.546438Z"
    },
    "scrolled": true
   },
   "outputs": [
    {
     "name": "stdout",
     "output_type": "stream",
     "text": [
      "['1', '23', '456', '78910']\n",
      "\n",
      "['1', '', '2', '3', '', '4', '5', '6', '', '7', '8', '9', '1', '0', '']\n",
      "\n",
      "['1', '', '23', '', '456', '', '78910', '']\n",
      "\n",
      "['1', '23', '456', '78910']\n"
     ]
    }
   ],
   "source": [
    "# example of using \"+\" quantifier\n",
    "print(re.findall(r\"\\d+\", string))        # one or more times of \\d\n",
    "print()\n",
    "\n",
    "# example of using \"?\" quantifier\n",
    "print(re.findall(r\"\\d?\", string))        # zero or one time of \\d\n",
    "print()\n",
    "\n",
    "# example of using \"*\" quantifier\n",
    "print(re.findall(r\"\\d*\", string))        # zero or more times of \\d\n",
    "print()\n",
    "\n",
    "# example of using \"{n,m}\" quantifier\n",
    "print(re.findall(r\"\\d{1,}\", string))        # zero or more times of \\d"
   ]
  },
  {
   "cell_type": "markdown",
   "metadata": {},
   "source": [
    "## Example 1"
   ]
  },
  {
   "cell_type": "code",
   "execution_count": 12,
   "metadata": {
    "ExecuteTime": {
     "end_time": "2021-01-19T05:58:06.565392Z",
     "start_time": "2021-01-19T05:58:06.557478Z"
    }
   },
   "outputs": [
    {
     "data": {
      "text/plain": [
       "'\\n한ㆍ미ㆍ일 안보협력 강화는 바이든 행정부가 취할 동아시아 정책의 핵심 요소다.\\n조 바이든 대통령 당선인은 동맹국들과 연합해 중국의 부상을 억제하겠다는 구상을 이미 수차례 공개적으로 밝혔다.\\n이는 한ㆍ일 관계 개선이 바이든 행정부의 전략적 이해관계와 맞물릴 수밖에 없다는 뜻이기도 하다.\\n현재 한ㆍ일 간 갈등의 중심에는 반세기 이상 뇌관으로 작용해온 과거사 문제가 있다.\\n이 중 위안부 피해 문제, 강제징용 문제로 촉발된 일본의 수출 규제 및 한국의 한ㆍ일 군사정보보호협정(GSOMIAㆍ지소미아)과 관련해 전문가 34명의 의견을 물었다.\\n\\n우선 위안부 문제와 관련, 바이든 행정부가 취할 입장을 묻자 “한ㆍ일 양자 간에 해결해야 할 문제로 미국이 쉽게 관여하지 않으려 할 것”이라는 답변이 38.2%(13명)로 가장 많았다. \\n양기호 성공회대 일본학과 교수는 “미국은 양자 문제에 기본적으로 강하게 개입하지 않는다는 입장”이라며 “특히 위안부 문제는 미국 민주당이 중시하는 인권 문제이기 때문에 더욱 거리를 두고 한ㆍ일 양자가 자체 해결하는 데 방점을 찍을 것”이라고 말했다.\\n\\n'"
      ]
     },
     "execution_count": 12,
     "metadata": {},
     "output_type": "execute_result"
    }
   ],
   "source": [
    "# Example 1\n",
    "\n",
    "sentence = '''\n",
    "한ㆍ미ㆍ일 안보협력 강화는 바이든 행정부가 취할 동아시아 정책의 핵심 요소다.\n",
    "조 바이든 대통령 당선인은 동맹국들과 연합해 중국의 부상을 억제하겠다는 구상을 이미 수차례 공개적으로 밝혔다.\n",
    "이는 한ㆍ일 관계 개선이 바이든 행정부의 전략적 이해관계와 맞물릴 수밖에 없다는 뜻이기도 하다.\n",
    "현재 한ㆍ일 간 갈등의 중심에는 반세기 이상 뇌관으로 작용해온 과거사 문제가 있다.\n",
    "이 중 위안부 피해 문제, 강제징용 문제로 촉발된 일본의 수출 규제 및 한국의 한ㆍ일 군사정보보호협정(GSOMIAㆍ지소미아)과 관련해 전문가 34명의 의견을 물었다.\n",
    "\n",
    "우선 위안부 문제와 관련, 바이든 행정부가 취할 입장을 묻자 “한ㆍ일 양자 간에 해결해야 할 문제로 미국이 쉽게 관여하지 않으려 할 것”이라는 답변이 38.2%(13명)로 가장 많았다. \n",
    "양기호 성공회대 일본학과 교수는 “미국은 양자 문제에 기본적으로 강하게 개입하지 않는다는 입장”이라며 “특히 위안부 문제는 미국 민주당이 중시하는 인권 문제이기 때문에 더욱 거리를 두고 한ㆍ일 양자가 자체 해결하는 데 방점을 찍을 것”이라고 말했다.\n",
    "\n",
    "'''\n",
    "sentence"
   ]
  },
  {
   "cell_type": "code",
   "execution_count": 13,
   "metadata": {
    "ExecuteTime": {
     "end_time": "2021-01-19T05:58:06.570331Z",
     "start_time": "2021-01-19T05:58:06.567493Z"
    }
   },
   "outputs": [
    {
     "name": "stdout",
     "output_type": "stream",
     "text": [
      "['한ㆍ미ㆍ일', '안보협력', '강화는', '바이든', '행정부가', '취할', '동아시아', '정책의', '핵심', '요소다', '조', '바이든', '대통령', '당선인은', '동맹국들과', '연합해', '중국의', '부상을', '억제하겠다는', '구상을', '이미', '수차례', '공개적으로', '밝혔다', '이는', '한ㆍ일', '관계', '개선이', '바이든', '행정부의', '전략적', '이해관계와', '맞물릴', '수밖에', '없다는', '뜻이기도', '하다', '현재', '한ㆍ일', '간', '갈등의', '중심에는', '반세기', '이상', '뇌관으로', '작용해온', '과거사', '문제가', '있다', '이', '중', '위안부', '피해', '문제', '강제징용', '문제로', '촉발된', '일본의', '수출', '규제', '및', '한국의', '한ㆍ일', '군사정보보호협정', 'GSOMIAㆍ지소미아', '과', '관련해', '전문가', '34명의', '의견을', '물었다', '우선', '위안부', '문제와', '관련', '바이든', '행정부가', '취할', '입장을', '묻자', '한ㆍ일', '양자', '간에', '해결해야', '할', '문제로', '미국이', '쉽게', '관여하지', '않으려', '할', '것', '이라는', '답변이', '38', '2', '13명', '로', '가장', '많았다', '양기호', '성공회대', '일본학과', '교수는', '미국은', '양자', '문제에', '기본적으로', '강하게', '개입하지', '않는다는', '입장', '이라며', '특히', '위안부', '문제는', '미국', '민주당이', '중시하는', '인권', '문제이기', '때문에', '더욱', '거리를', '두고', '한ㆍ일', '양자가', '자체', '해결하는', '데', '방점을', '찍을', '것', '이라고', '말했다']\n"
     ]
    }
   ],
   "source": [
    "## 단어만 추출\n",
    "print(re.findall(\"\\w+\", sentence))"
   ]
  },
  {
   "cell_type": "code",
   "execution_count": 14,
   "metadata": {
    "ExecuteTime": {
     "end_time": "2021-01-19T05:58:06.575004Z",
     "start_time": "2021-01-19T05:58:06.572413Z"
    }
   },
   "outputs": [
    {
     "name": "stdout",
     "output_type": "stream",
     "text": [
      "['34', '38', '2', '13']\n"
     ]
    }
   ],
   "source": [
    "# 숫자만 추출\n",
    "print(re.findall(\"\\d+\", sentence))"
   ]
  },
  {
   "cell_type": "code",
   "execution_count": 15,
   "metadata": {
    "ExecuteTime": {
     "end_time": "2021-01-19T05:58:06.579811Z",
     "start_time": "2021-01-19T05:58:06.577096Z"
    }
   },
   "outputs": [
    {
     "name": "stdout",
     "output_type": "stream",
     "text": [
      "['34명', '38.2%', '13명']\n"
     ]
    }
   ],
   "source": [
    "# 숫자 + 단위 추출\n",
    "print(re.findall(\"[\\d]+[\\.]?[\\d]+[\\D]?\", sentence))"
   ]
  },
  {
   "cell_type": "code",
   "execution_count": 16,
   "metadata": {
    "ExecuteTime": {
     "end_time": "2021-01-19T05:58:06.585088Z",
     "start_time": "2021-01-19T05:58:06.581474Z"
    }
   },
   "outputs": [
    {
     "data": {
      "text/plain": [
       "['한ㆍ미ㆍ일', '이미', '군사정보보호협정(GSOMIAㆍ지소미아)과', '미국이', '“미국은', '미국']"
      ]
     },
     "execution_count": 16,
     "metadata": {},
     "output_type": "execute_result"
    }
   ],
   "source": [
    "# \"미\"가 포함된 단어 전부 추출\n",
    "\n",
    "re.findall(\"[\\S]*[미]+[\\S]*\", sentence)"
   ]
  },
  {
   "cell_type": "code",
   "execution_count": 17,
   "metadata": {
    "ExecuteTime": {
     "end_time": "2021-01-19T05:58:06.589669Z",
     "start_time": "2021-01-19T05:58:06.586677Z"
    }
   },
   "outputs": [
    {
     "data": {
      "text/plain": [
       "['한ㆍ미ㆍ일 안보협력 강화는 바이든 행정부가 취할 동아시아 정책의 핵심 요소다.',\n",
       " '조 바이든 대통령 당선인은 동맹국들과 연합해 중국의 부상을 억제하겠다는 구상을 이미 수차례 공개적으로 밝혔다.',\n",
       " '이는 한ㆍ일 관계 개선이 바이든 행정부의 전략적 이해관계와 맞물릴 수밖에 없다는 뜻이기도 하다.',\n",
       " '현재 한ㆍ일 간 갈등의 중심에는 반세기 이상 뇌관으로 작용해온 과거사 문제가 있다.',\n",
       " '이 중 위안부 피해 문제, 강제징용 문제로 촉발된 일본의 수출 규제 및 한국의 한ㆍ일 군사정보보호협정(GSOMIAㆍ지소미아)과 관련해 전문가 34명의 의견을 물었다.',\n",
       " '우선 위안부 문제와 관련, 바이든 행정부가 취할 입장을 묻자 “한ㆍ일 양자 간에 해결해야 할 문제로 미국이 쉽게 관여하지 않으려 할 것”이라는 답변이 38.2%(13명)로 가장 많았다. ',\n",
       " '양기호 성공회대 일본학과 교수는 “미국은 양자 문제에 기본적으로 강하게 개입하지 않는다는 입장”이라며 “특히 위안부 문제는 미국 민주당이 중시하는 인권 문제이기 때문에 더욱 거리를 두고 한ㆍ일 양자가 자체 해결하는 데 방점을 찍을 것”이라고 말했다.']"
      ]
     },
     "execution_count": 17,
     "metadata": {},
     "output_type": "execute_result"
    }
   ],
   "source": [
    "# 한줄씩 출력  (\\n 기준으로 분리)\n",
    "\n",
    "re.findall(\".+\", sentence)"
   ]
  },
  {
   "cell_type": "markdown",
   "metadata": {},
   "source": [
    "## Example 2"
   ]
  },
  {
   "cell_type": "code",
   "execution_count": 18,
   "metadata": {
    "ExecuteTime": {
     "end_time": "2021-01-19T05:58:06.595573Z",
     "start_time": "2021-01-19T05:58:06.592120Z"
    }
   },
   "outputs": [
    {
     "data": {
      "text/plain": [
       "'\\nRobots are branching out. A new prototype soft robot takes inspiration from plants by growing to explore its environment.\\n\\nVines and some fungi extend from their tips to explore their surroundings. \\nElliot Hawkes of the University of California in Santa Barbara \\nand his colleagues designed a bot that works \\non similar principles. Its mechanical body \\nsits inside a plastic tube reel that extends \\nthrough pressurized inflation, a method that some \\ninvertebrates like peanut worms (Sipunculus nudus)\\nalso use to extend their appendages. The plastic \\ntubing has two compartments, and inflating one \\nside or the other changes the extension direction. \\nA camera sensor at the tip alerts the bot when it’s \\nabout to run into something.\\n\\nIn the lab, Hawkes and his colleagues \\nprogrammed the robot to form 3-D structures such \\nas a radio antenna, turn off a valve, navigate a maze, \\nswim through glue, act as a fire extinguisher, squeeze \\nthrough tight gaps, shimmy through fly paper and slither \\nacross a bed of nails. The soft bot can extend up to \\n72 meters, and unlike plants, it can grow at a speed of \\n10 meters per second, the team reports July 19 in Science Robotics. \\nThe design could serve as a model for building robots \\nthat can traverse constrained environments\\n\\nThis isn’t the first robot to take \\ninspiration from plants. One plantlike \\npredecessor was a robot modeled on roots.\\n'"
      ]
     },
     "execution_count": 18,
     "metadata": {},
     "output_type": "execute_result"
    }
   ],
   "source": [
    "# Example 2\n",
    "\n",
    "sentence2 = '''\n",
    "Robots are branching out. A new prototype soft robot takes inspiration from plants by growing to explore its environment.\n",
    "\n",
    "Vines and some fungi extend from their tips to explore their surroundings. \n",
    "Elliot Hawkes of the University of California in Santa Barbara \n",
    "and his colleagues designed a bot that works \n",
    "on similar principles. Its mechanical body \n",
    "sits inside a plastic tube reel that extends \n",
    "through pressurized inflation, a method that some \n",
    "invertebrates like peanut worms (Sipunculus nudus)\n",
    "also use to extend their appendages. The plastic \n",
    "tubing has two compartments, and inflating one \n",
    "side or the other changes the extension direction. \n",
    "A camera sensor at the tip alerts the bot when it’s \n",
    "about to run into something.\n",
    "\n",
    "In the lab, Hawkes and his colleagues \n",
    "programmed the robot to form 3-D structures such \n",
    "as a radio antenna, turn off a valve, navigate a maze, \n",
    "swim through glue, act as a fire extinguisher, squeeze \n",
    "through tight gaps, shimmy through fly paper and slither \n",
    "across a bed of nails. The soft bot can extend up to \n",
    "72 meters, and unlike plants, it can grow at a speed of \n",
    "10 meters per second, the team reports July 19 in Science Robotics. \n",
    "The design could serve as a model for building robots \n",
    "that can traverse constrained environments\n",
    "\n",
    "This isn’t the first robot to take \n",
    "inspiration from plants. One plantlike \n",
    "predecessor was a robot modeled on roots.\n",
    "'''\n",
    "\n",
    "sentence2"
   ]
  },
  {
   "cell_type": "code",
   "execution_count": 19,
   "metadata": {
    "ExecuteTime": {
     "end_time": "2021-01-19T05:58:06.600426Z",
     "start_time": "2021-01-19T05:58:06.597033Z"
    }
   },
   "outputs": [
    {
     "data": {
      "text/plain": [
       "'Robots are branching out. A new prototype soft robot takes inspiration from plants by growing to explore its environment.Vines and some fungi extend from their tips to explore their surroundings. Elliot Hawkes of the University of California in Santa Barbara and his colleagues designed a bot that works on similar principles. Its mechanical body sits inside a plastic tube reel that extends through pressurized inflation, a method that some invertebrates like peanut worms (Sipunculus nudus)also use to extend their appendages. The plastic tubing has two compartments, and inflating one side or the other changes the extension direction. A camera sensor at the tip alerts the bot when it’s about to run into something.In the lab, Hawkes and his colleagues programmed the robot to form 3-D structures such as a radio antenna, turn off a valve, navigate a maze, swim through glue, act as a fire extinguisher, squeeze through tight gaps, shimmy through fly paper and slither across a bed of nails. The soft bot can extend up to 72 meters, and unlike plants, it can grow at a speed of 10 meters per second, the team reports July 19 in Science Robotics. The design could serve as a model for building robots that can traverse constrained environmentsThis isn’t the first robot to take inspiration from plants. One plantlike predecessor was a robot modeled on roots.'"
      ]
     },
     "execution_count": 19,
     "metadata": {},
     "output_type": "execute_result"
    }
   ],
   "source": [
    "# 특정 문자열 대체\n",
    "s = re.sub(\"\\n\", \"\", sentence2)\n",
    "s"
   ]
  },
  {
   "cell_type": "code",
   "execution_count": 20,
   "metadata": {
    "ExecuteTime": {
     "end_time": "2021-01-19T05:58:06.605509Z",
     "start_time": "2021-01-19T05:58:06.601866Z"
    }
   },
   "outputs": [
    {
     "data": {
      "text/plain": [
       "['Robots',\n",
       " 'A',\n",
       " 'Vines',\n",
       " 'Elliot',\n",
       " 'Hawkes',\n",
       " 'University',\n",
       " 'California',\n",
       " 'Santa',\n",
       " 'Barbara',\n",
       " 'Its',\n",
       " 'Sipunculus',\n",
       " 'The',\n",
       " 'A',\n",
       " 'In',\n",
       " 'Hawkes',\n",
       " 'D',\n",
       " 'The',\n",
       " 'July',\n",
       " 'Science',\n",
       " 'Robotics',\n",
       " 'The',\n",
       " 'This',\n",
       " 'One']"
      ]
     },
     "execution_count": 20,
     "metadata": {},
     "output_type": "execute_result"
    }
   ],
   "source": [
    "# 대문자가 포함된 단어만 추출\n",
    "re.findall(r\"[A-Z]+[\\w]*\", sentence2)"
   ]
  },
  {
   "cell_type": "markdown",
   "metadata": {},
   "source": [
    "## Groups\n",
    "\n",
    "- 정규표현식에 Grouping을 하면 그루핑된 문자열만 출력된다.\n",
    "- 그루핑하는 방법: () 사용"
   ]
  },
  {
   "cell_type": "code",
   "execution_count": 21,
   "metadata": {
    "ExecuteTime": {
     "end_time": "2021-01-19T05:58:06.610544Z",
     "start_time": "2021-01-19T05:58:06.607840Z"
    }
   },
   "outputs": [
    {
     "data": {
      "text/plain": [
       "'John has 6 cats but I think my friend Susan has 3 dogs and Mike has 8 fishes while I have 2 turtles.'"
      ]
     },
     "execution_count": 21,
     "metadata": {},
     "output_type": "execute_result"
    }
   ],
   "source": [
    "string = 'John has 6 cats but I think my friend Susan has 3 dogs and Mike has 8 fishes while I have 2 turtles.'\n",
    "string"
   ]
  },
  {
   "cell_type": "code",
   "execution_count": 22,
   "metadata": {
    "ExecuteTime": {
     "end_time": "2021-01-19T05:58:06.615731Z",
     "start_time": "2021-01-19T05:58:06.612299Z"
    }
   },
   "outputs": [
    {
     "data": {
      "text/plain": [
       "['John has 6 cats',\n",
       " 'Susan has 3 dogs',\n",
       " 'Mike has 8 fishes',\n",
       " 'I have 2 turtles']"
      ]
     },
     "execution_count": 22,
     "metadata": {},
     "output_type": "execute_result"
    }
   ],
   "source": [
    "re.findall(\"[A-Za-z]+ \\w+ \\d+ \\w+\", string)"
   ]
  },
  {
   "cell_type": "code",
   "execution_count": 23,
   "metadata": {
    "ExecuteTime": {
     "end_time": "2021-01-19T05:58:06.620596Z",
     "start_time": "2021-01-19T05:58:06.617144Z"
    }
   },
   "outputs": [
    {
     "data": {
      "text/plain": [
       "['John', 'Susan', 'Mike', 'I']"
      ]
     },
     "execution_count": 23,
     "metadata": {},
     "output_type": "execute_result"
    }
   ],
   "source": [
    "re.findall(\"([A-Za-z]+) \\w+ \\d+ \\w+\", string)          # 주어만 추출"
   ]
  },
  {
   "cell_type": "code",
   "execution_count": 24,
   "metadata": {
    "ExecuteTime": {
     "end_time": "2021-01-19T05:58:06.625800Z",
     "start_time": "2021-01-19T05:58:06.622241Z"
    }
   },
   "outputs": [
    {
     "data": {
      "text/plain": [
       "['cats', 'dogs', 'fishes', 'turtles']"
      ]
     },
     "execution_count": 24,
     "metadata": {},
     "output_type": "execute_result"
    }
   ],
   "source": [
    "re.findall(\"[A-Za-z]+ \\w+ \\d+ (\\w+)\", string)          # 목적어만 추출"
   ]
  },
  {
   "cell_type": "code",
   "execution_count": 25,
   "metadata": {
    "ExecuteTime": {
     "end_time": "2021-01-19T05:58:06.631884Z",
     "start_time": "2021-01-19T05:58:06.628241Z"
    }
   },
   "outputs": [
    {
     "data": {
      "text/plain": [
       "[('John', '6', 'cats'),\n",
       " ('Susan', '3', 'dogs'),\n",
       " ('Mike', '8', 'fishes'),\n",
       " ('I', '2', 'turtles')]"
      ]
     },
     "execution_count": 25,
     "metadata": {},
     "output_type": "execute_result"
    }
   ],
   "source": [
    "re.findall(\"([A-Za-z]+) \\w+ (\\d+) (\\w+)\", string)      # 동사 제외"
   ]
  },
  {
   "cell_type": "code",
   "execution_count": 26,
   "metadata": {
    "ExecuteTime": {
     "end_time": "2021-01-19T05:58:06.636812Z",
     "start_time": "2021-01-19T05:58:06.633411Z"
    }
   },
   "outputs": [
    {
     "data": {
      "text/plain": [
       "[('John', 'Susan', 'Mike', 'I'),\n",
       " ('6', '3', '8', '2'),\n",
       " ('cats', 'dogs', 'fishes', 'turtles')]"
      ]
     },
     "execution_count": 26,
     "metadata": {},
     "output_type": "execute_result"
    }
   ],
   "source": [
    "info = re.findall(\"([A-Za-z]+) \\w+ (\\d+) (\\w+)\", string)\n",
    "\n",
    "list(zip(*info))"
   ]
  },
  {
   "cell_type": "markdown",
   "metadata": {},
   "source": [
    "## Compiling and naming pattern"
   ]
  },
  {
   "cell_type": "code",
   "execution_count": 27,
   "metadata": {
    "ExecuteTime": {
     "end_time": "2021-01-19T05:58:06.641096Z",
     "start_time": "2021-01-19T05:58:06.638287Z"
    }
   },
   "outputs": [],
   "source": [
    "string = 'John has 6 cats but I think my friend Susan has 3 dogs and Mike has 8 fishes while I have 2 turtles.'\n",
    "pattern = re.compile(\"(?P<Name>[A-Za-z]+) \\w+ (?P<number>[\\d+]) (?P<animal>\\w+)\")"
   ]
  },
  {
   "cell_type": "code",
   "execution_count": 28,
   "metadata": {
    "ExecuteTime": {
     "end_time": "2021-01-19T05:58:06.645458Z",
     "start_time": "2021-01-19T05:58:06.642552Z"
    }
   },
   "outputs": [
    {
     "data": {
      "text/plain": [
       "<re.Match object; span=(0, 15), match='John has 6 cats'>"
      ]
     },
     "execution_count": 28,
     "metadata": {},
     "output_type": "execute_result"
    }
   ],
   "source": [
    "re.search(pattern, string)"
   ]
  },
  {
   "cell_type": "code",
   "execution_count": 29,
   "metadata": {
    "ExecuteTime": {
     "end_time": "2021-01-19T05:58:06.650204Z",
     "start_time": "2021-01-19T05:58:06.647113Z"
    }
   },
   "outputs": [
    {
     "data": {
      "text/plain": [
       "'cats'"
      ]
     },
     "execution_count": 29,
     "metadata": {},
     "output_type": "execute_result"
    }
   ],
   "source": [
    "re.search(pattern, string)[\"animal\"]"
   ]
  }
 ],
 "metadata": {
  "kernelspec": {
   "display_name": "Python 3",
   "language": "python",
   "name": "python3"
  },
  "language_info": {
   "codemirror_mode": {
    "name": "ipython",
    "version": 3
   },
   "file_extension": ".py",
   "mimetype": "text/x-python",
   "name": "python",
   "nbconvert_exporter": "python",
   "pygments_lexer": "ipython3",
   "version": "3.8.3"
  },
  "toc": {
   "base_numbering": 1,
   "nav_menu": {},
   "number_sections": true,
   "sideBar": true,
   "skip_h1_title": false,
   "title_cell": "Table of Contents",
   "title_sidebar": "Contents",
   "toc_cell": false,
   "toc_position": {},
   "toc_section_display": true,
   "toc_window_display": true
  }
 },
 "nbformat": 4,
 "nbformat_minor": 4
}
