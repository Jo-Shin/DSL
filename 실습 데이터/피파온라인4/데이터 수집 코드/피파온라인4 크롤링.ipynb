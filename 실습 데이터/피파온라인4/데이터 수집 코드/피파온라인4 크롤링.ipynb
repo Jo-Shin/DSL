{
 "cells": [
  {
   "cell_type": "code",
   "execution_count": null,
   "metadata": {},
   "outputs": [],
   "source": [
    "import pickle\n",
    "\n",
    "with open(\"./감독명.txt\", \"rb\") as file:\n",
    "    names = pickle.load(file)"
   ]
  },
  {
   "cell_type": "code",
   "execution_count": null,
   "metadata": {},
   "outputs": [],
   "source": [
    "import requests as req\n",
    "from bs4 import BeautifulSoup as bs\n",
    "import pandas as pd\n",
    "import re\n",
    "import numpy as np\n",
    "import time"
   ]
  },
  {
   "cell_type": "code",
   "execution_count": null,
   "metadata": {},
   "outputs": [],
   "source": [
    "API = \""\n",
    "\n",
    "headers = {\n",
    "    \"User-Agent\": \"Mozilla/5.0 (Windows NT 10.0; Win64; x64) AppleWebKit/537.36 (KHTML, like Gecko) Chrome/87.0.4280.141 Safari/537.36\",\n",
    "    \"Referer\": \"https://developers.nexon.com/\",\n",
    "    \"Authorization\": API\n",
    "}"
   ]
  },
  {
   "cell_type": "markdown",
   "metadata": {},
   "source": [
    "# 고유 유저 키"
   ]
  },
  {
   "cell_type": "code",
   "execution_count": null,
   "metadata": {},
   "outputs": [],
   "source": [
    "user_key = []\n",
    "\n",
    "for nickname in names:\n",
    "    URL = \"https://api.nexon.co.kr/fifaonline4/v1.0/users?nickname={}\".format(nickname)\n",
    "    res = req.get(URL, headers=headers)\n",
    "    \n",
    "    # API 사용량 제한에 따라서 생기는 오류 처리\n",
    "    if res.status_code == 200:\n",
    "        user_key.append(res.json()[\"accessId\"])\n",
    "        \n",
    "    elif res.status_code == 429:\n",
    "        while res.status_code != 200:\n",
    "            print(\"API 사용량 한계 도달.. 10초 기다리는 중\")\n",
    "            time.sleep(10)\n",
    "            res = req.get(URL, headers=headers)\n",
    "            \n",
    "    else:\n",
    "        print(\"알 수 없는 오류 발생.\")"
   ]
  },
  {
   "cell_type": "code",
   "execution_count": null,
   "metadata": {},
   "outputs": [],
   "source": [
    "len(user_key)"
   ]
  },
  {
   "cell_type": "code",
   "execution_count": null,
   "metadata": {},
   "outputs": [],
   "source": [
    "user_key[:5]"
   ]
  },
  {
   "cell_type": "markdown",
   "metadata": {},
   "source": [
    "# 매치 데이터"
   ]
  },
  {
   "cell_type": "code",
   "execution_count": null,
   "metadata": {
    "scrolled": true
   },
   "outputs": [],
   "source": [
    "match_ids = []\n",
    "tally = 1\n",
    "total = 0\n",
    "\n",
    "for key in user_key:\n",
    "    URL = \"https://api.nexon.co.kr/fifaonline4/v1.0/users/{}/matches?matchtype={}&offset={}&limit={}\".format(key, 50, 0, 100)\n",
    "    res = req.get(URL, headers=headers)\n",
    "    \n",
    "    # API 사용량 제한에 따라서 생기는 오류 처리\n",
    "    if res.status_code == 200:\n",
    "        data = res.json()\n",
    "        for dat in data:\n",
    "            if dat not in match_ids:\n",
    "                match_ids.append(dat)\n",
    "                total += 1\n",
    "        \n",
    "    elif res.status_code == 429:\n",
    "        while res.status_code != 200:\n",
    "            print(\"API 사용량 한계 도달.. 10초 기다리는 중\")\n",
    "            time.sleep(10)\n",
    "            res = req.get(URL, headers=headers)\n",
    "            \n",
    "    else:\n",
    "        print(\"알 수 없는 오류 발생.\")\n",
    "        \n",
    "        \n",
    "    if (total - 10000*tally) > 0:\n",
    "        print(\"{} 개의 매치 데이터 수집 완료\".format(total))\n",
    "        tally += 1"
   ]
  },
  {
   "cell_type": "code",
   "execution_count": null,
   "metadata": {},
   "outputs": [],
   "source": [
    "import pickle\n",
    "\n",
    "with open(\"./매치아이디.txt\", \"wb\") as file:\n",
    "    pickle.dump(match_ids, file)"
   ]
  },
  {
   "cell_type": "markdown",
   "metadata": {},
   "source": [
    "# 선수정보"
   ]
  },
  {
   "cell_type": "code",
   "execution_count": null,
   "metadata": {},
   "outputs": [],
   "source": [
    "# 선수 메타 데이터\n",
    "URL = \"https://static.api.nexon.co.kr/fifaonline4/latest/spid.json\"\n",
    "players = req.get(URL, headers=headers).json()\n",
    "\n",
    "# 딕셔너리 형태로 저장\n",
    "player_dict = {}\n",
    "for i in range(len(players)):\n",
    "    player_dict[players[i][\"id\"]] = players[i][\"name\"]\n",
    "\n",
    "with open(\"./선수정보.txt\", \"wb\") as file:\n",
    "    pickle.dump(player_dict, file)"
   ]
  },
  {
   "cell_type": "markdown",
   "metadata": {},
   "source": [
    "# 매치 정보"
   ]
  },
  {
   "cell_type": "code",
   "execution_count": null,
   "metadata": {},
   "outputs": [],
   "source": [
    "# 데이터를 저장할 데이터 프레임\n",
    "matchDetail_df = pd.DataFrame(columns = [\"날짜\", \"유저이름\", \"경기결과\", \"파울\", \"부상\", \"레드카드\", \"옐로카드\", \n",
    "                                \"드리블횟수\", \"코너킥횟수\", \"점유율\", \"오프사이드횟수\", \"평점\"])\n",
    "\n",
    "shoot_df = pd.DataFrame(columns = [\"득점수\", \"전체슈팅\", \"유효슈팅\", \"자살골\", \"헤딩슛\", \"헤딩골\", \"프리킥\",\n",
    "                                  \"프리킥골\", \"중거리슛\", \"중거리골\", \"패널티킥\", \"패널티골\"])\n",
    "\n",
    "pass_df = pd.DataFrame(columns = [\"패스시도\", \"패스성공\", \"숏패스시도\", \"숏패스성공\", \"롱패스시도\", \"롱패스성공\",\n",
    "                                 \"쓰루패스시도\", \"쓰루패스성공\", \"드리븐패스시도\", \"드리븐패스성공\"])\n",
    "\n",
    "defense_df = pd.DataFrame(columns = [\"블락시도\", \"블락성공\", \"태클시도\", \"태클성공\"])\n",
    "\n",
    "player_df = pd.DataFrame(columns = [\"선수1\", \"선수2\", \"선수3\", \"선수4\", \"선수5\", \"선수6\", \"선수7\", \"선수8\",\n",
    "                                   \"선수9\", \"선수10\", \"선수11\", \"선수12\", \"선수13\", \"선수14\", \"선수15\", \"선수16\",\n",
    "                                   \"선수17\", \"선수18\"])"
   ]
  },
  {
   "cell_type": "code",
   "execution_count": null,
   "metadata": {},
   "outputs": [],
   "source": [
    "import pickle\n",
    "import pandas as pd\n",
    "\n",
    "with open(\"./매치아이디.txt\", \"rb\") as file:\n",
    "    match_ids = pickle.load(file)\n",
    "    \n",
    "with open(\"./선수정보.txt\", \"rb\") as file2:\n",
    "    player_dict = pickle.load(file2)"
   ]
  },
  {
   "cell_type": "code",
   "execution_count": null,
   "metadata": {
    "scrolled": true
   },
   "outputs": [],
   "source": [
    "len(match_ids)"
   ]
  },
  {
   "cell_type": "code",
   "execution_count": null,
   "metadata": {},
   "outputs": [],
   "source": [
    "len(player_dict)"
   ]
  },
  {
   "cell_type": "code",
   "execution_count": null,
   "metadata": {
    "scrolled": true
   },
   "outputs": [],
   "source": [
    "tally = 1\n",
    "total = 0\n",
    "\n",
    "for i in range(217176, len(match_ids)):\n",
    "\n",
    "    URL = \"https://api.nexon.co.kr/fifaonline4/v1.0/matches/{}\".format(match_ids[i])\n",
    "    res = req.get(URL, headers=headers)\n",
    "\n",
    "    # API 사용량 제한에 따라서 생기는 오류 처리\n",
    "    if res.status_code == 200:\n",
    "        data = res.json()[\"matchInfo\"][0]\n",
    "        matchDetail_ = data[\"matchDetail\"]\n",
    "        shoot_ = data[\"shoot\"]\n",
    "        pass_ = data[\"pass\"]\n",
    "        defense_ = data[\"defence\"]\n",
    "        players_ = data[\"player\"]\n",
    "\n",
    "\n",
    "        # 경기 결과에 대한 지표\n",
    "        match_date = res.json()[\"matchDate\"]            # 경기 날짜  \n",
    "        user_name = data[\"nickname\"]                    # 플레이어 닉네임\n",
    "        match_result = matchDetail_[\"matchResult\"]      # 승패 여부\n",
    "        num_foul = matchDetail_[\"foul\"]                 # 파울 횟수\n",
    "        num_injury = matchDetail_[\"injury\"]             # 부상 횟수\n",
    "        num_red = matchDetail_[\"redCards\"]              # 레드카드 개수\n",
    "        num_yellow = matchDetail_[\"yellowCards\"]        # 옐로카드 개수\n",
    "        dribble = matchDetail_[\"dribble\"]               # 드리블 횟수\n",
    "        cornerkick = matchDetail_[\"cornerKick\"]         # 코너킥 횟수\n",
    "        possession = matchDetail_[\"possession\"]         # 점유율 (%)\n",
    "        offside = matchDetail_[\"offsideCount\"]          # 오프사이드 횟수\n",
    "        average_rating = matchDetail_[\"averageRating\"]  # 평균 평점\n",
    "\n",
    "        matchDetail_df.loc[i] = [match_date, user_name, match_result, num_foul, num_injury, num_red,\n",
    "                                num_yellow, dribble, cornerkick, possession, offside, average_rating]\n",
    "\n",
    "\n",
    "        # 공격지표\n",
    "        goals = shoot_[\"goalTotal\"]                     # 득점수\n",
    "        shoots = shoot_[\"shootTotal\"]                   # 전체슈팅수\n",
    "        effectives = shoot_[\"effectiveShootTotal\"]      # 유효슈팅수\n",
    "        owngoals = shoot_[\"ownGoal\"]                    # 자살골 수\n",
    "        headings = shoot_[\"shootHeading\"]               # 헤딩슛 수\n",
    "        heading_goals = shoot_[\"goalHeading\"]           # 헤딩골 수\n",
    "        freekicks = shoot_[\"shootFreekick\"]             # 프리킥 수\n",
    "        freekick_goals = shoot_[\"goalFreekick\"]         # 프리킥 골 수\n",
    "        outside = shoot_[\"shootOutPenalty\"]             # 중거리 슛 수\n",
    "        outside_goal = shoot_[\"goalOutPenalty\"]         # 중거리 골 수\n",
    "        penalty = shoot_[\"shootPenaltyKick\"]            # 패널티킥 수\n",
    "        penalty_goals = shoot_[\"goalPenaltyKick\"]       # 패널티킥 골 수\n",
    "\n",
    "        shoot_df.loc[i] = [goals, shoots, effectives, owngoals, headings, heading_goals, freekicks, \n",
    "                          freekick_goals, outside, outside_goal, penalty, penalty_goals]\n",
    "\n",
    "\n",
    "        # 패스지표\n",
    "        pass_total = pass_[\"passTry\"]                                                         # 총 패스 시도수\n",
    "        pass_success = pass_[\"passSuccess\"]                                                   # 총 패스 성공수\n",
    "        short_try = pass_[\"shortPassTry\"]                                                     # 숏패스 시도수\n",
    "        shot_success = pass_[\"shortPassSuccess\"]                                              # 숏패스 성공수\n",
    "        long_try = pass_[\"longPassTry\"]                                                       # 롱패스 시도수\n",
    "        long_success = pass_[\"longPassSuccess\"]                                               # 롱패스 성공수\n",
    "        through_try = pass_[\"throughPassTry\"] + pass_[\"lobbedThroughPassTry\"]                 # 쓰루패스 시도수\n",
    "        through_success = pass_[\"throughPassSuccess\"] + pass_[\"lobbedThroughPassSuccess\"]     # 쓰루패스 성공수\n",
    "        driven_try = pass_[\"drivenGroundPassTry\"]                                             # 드리븐 패스 시도수 (강하게 차는 땅볼패스)\n",
    "        driven_success = pass_[\"drivenGroundPassSuccess\"]                                     # 드리븐 패스 성공수\n",
    "\n",
    "        pass_df.loc[i] = [pass_total, pass_success, short_try, shot_success, long_try, long_success,\n",
    "                         through_try, through_success, driven_try, driven_success]\n",
    "\n",
    "\n",
    "        # 수비지표\n",
    "        block_try = defense_[\"blockTry\"]                       # 블락 시도수\n",
    "        block_success = defense_[\"blockSuccess\"]               # 블락 성공수\n",
    "        tackle_try = defense_[\"tackleTry\"]                     # 태클 시도수\n",
    "        tackle_success = defense_[\"tackleSuccess\"]             # 태클 성공수\n",
    "\n",
    "        defense_df.loc[i] = [block_try, block_success, tackle_try, tackle_success]\n",
    "\n",
    "\n",
    "        # 선수정보\n",
    "        names = []\n",
    "        for j in range(18):\n",
    "            try:\n",
    "                spId =  players_[j][\"spId\"]\n",
    "                names.append(player_dict[spId])\n",
    "            except:\n",
    "                names.append(None)\n",
    "\n",
    "        player_df.loc[i] = names\n",
    "\n",
    "\n",
    "        total += 1\n",
    "\n",
    "\n",
    "    # APi 사용량 초과시\n",
    "    elif res.status_code == 429:\n",
    "        while res.status_code != 200:\n",
    "            print(\"API 사용량 한계 도달.. 10초 기다리는 중\")\n",
    "            time.sleep(10)\n",
    "            res = req.get(URL, headers=headers)\n",
    "\n",
    "\n",
    "    # 에러 발생시\n",
    "    else:\n",
    "        print(\"API error: 알 수 없는 오류 발생.\")  \n",
    "\n",
    "\n",
    "    if (total - 1000*tally) > 0:\n",
    "        print(\"{} 개 데이터 생성 완료\".format(total))\n",
    "        tally += 1\n"
   ]
  },
  {
   "cell_type": "code",
   "execution_count": null,
   "metadata": {},
   "outputs": [],
   "source": [
    "matchDetail_df.to_csv(\"./매치정보.csv\", index=False)\n",
    "shoot_df.to_csv(\"./공격지표.csv\", index=False)\n",
    "pass_df.to_csv(\"./패스지표.csv\", index=False)\n",
    "defense_df.to_csv(\"./수비지표.csv\", index=False)\n",
    "player_df.to_csv(\"./선수정보.csv\", index=False)"
   ]
  },
  {
   "cell_type": "code",
   "execution_count": null,
   "metadata": {
    "scrolled": true
   },
   "outputs": [],
   "source": [
    "print(matchDetail_df.shape)\n",
    "matchDetail_df.tail()"
   ]
  },
  {
   "cell_type": "code",
   "execution_count": null,
   "metadata": {
    "scrolled": false
   },
   "outputs": [],
   "source": [
    "print(shoot_df.shape)\n",
    "shoot_df.tail(2)"
   ]
  },
  {
   "cell_type": "code",
   "execution_count": null,
   "metadata": {
    "scrolled": true
   },
   "outputs": [],
   "source": [
    "print(pass_df.shape)\n",
    "pass_df.tail(2)"
   ]
  },
  {
   "cell_type": "code",
   "execution_count": null,
   "metadata": {
    "scrolled": true
   },
   "outputs": [],
   "source": [
    "print(defense_df.shape)\n",
    "defense_df.tail(2)"
   ]
  },
  {
   "cell_type": "code",
   "execution_count": null,
   "metadata": {},
   "outputs": [],
   "source": [
    "print(player_df.shape)\n",
    "player_df.tail(2)"
   ]
  }
 ],
 "metadata": {
  "kernelspec": {
   "display_name": "Python 3",
   "language": "python",
   "name": "python3"
  },
  "language_info": {
   "codemirror_mode": {
    "name": "ipython",
    "version": 3
   },
   "file_extension": ".py",
   "mimetype": "text/x-python",
   "name": "python",
   "nbconvert_exporter": "python",
   "pygments_lexer": "ipython3",
   "version": "3.7.6"
  }
 },
 "nbformat": 4,
 "nbformat_minor": 4
}
